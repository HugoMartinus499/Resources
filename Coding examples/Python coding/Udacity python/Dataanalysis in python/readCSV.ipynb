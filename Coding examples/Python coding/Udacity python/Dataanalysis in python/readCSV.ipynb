{
 "cells": [
  {
   "cell_type": "code",
   "execution_count": null,
   "metadata": {},
   "outputs": [],
   "source": [
    "import unicodecsv\n"
   ]
  },
  {
   "cell_type": "code",
   "execution_count": null,
   "metadata": {},
   "outputs": [],
   "source": [
    "with open(enrollments_filename, 'rb') as f:\n",
    "    reader = unicodecsv.DictReader(f)\n",
    "    enrollments = list(reader)"
   ]
  },
  {
   "cell_type": "code",
   "execution_count": null,
   "metadata": {},
   "outputs": [],
   "source": [
    "engagement_filename = 'Data/daily_engagement.csv'\n",
    "submissions_filename = 'Data/project_submissions.csv'\n",
    "\n",
    "\n",
    "with open(engagement_filename, 'rb') as ef:\n",
    "    reader1 = unicodecsv.DictReader(ef)\n",
    "    daily_engagement = list(reader1)     \n",
    "\n",
    "with open(submissions_filename, 'rb') as sf:\n",
    "    reader2 = unicodecsv.DictReader(sf)\n",
    "    project_submissions = list(reader2)  \n",
    "    \n",
    "print(daily_engagement[1])\n",
    "print(project_submissions[1])"
   ]
  }
 ],
 "metadata": {
  "language_info": {
   "name": "python"
  }
 },
 "nbformat": 4,
 "nbformat_minor": 2
}
